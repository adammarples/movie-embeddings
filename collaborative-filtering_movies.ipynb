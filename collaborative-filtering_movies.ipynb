{
 "cells": [
  {
   "cell_type": "code",
   "execution_count": 1,
   "metadata": {},
   "outputs": [
    {
     "name": "stderr",
     "output_type": "stream",
     "text": [
      "Using TensorFlow backend.\n"
     ]
    }
   ],
   "source": [
    "import keras\n",
    "import numpy as np\n",
    "import datetime\n",
    "import tensorflow as tf\n",
    "import seaborn as sns\n",
    "import matplotlib.pyplot as plt\n",
    "import pandas as pd\n",
    "import keras.backend as K\n",
    "\n",
    "from keras.models import Sequential, Model, Input\n",
    "from keras.layers import Dense, BatchNormalization, Activation, \\\n",
    "                                LeakyReLU, Dropout, Embedding, \\\n",
    "                                multiply, Flatten, add, dot\n",
    "from keras.optimizers import Adam\n",
    "from keras.callbacks import TensorBoard\n",
    "from keras.utils.vis_utils import model_to_dot\n",
    "\n",
    "from sklearn.manifold import TSNE, LocallyLinearEmbedding, MDS                           \n",
    "from sklearn.decomposition import PCA\n",
    "from sklearn.model_selection import train_test_split\n",
    "from sklearn.metrics import mean_absolute_error\n",
    "\n",
    "from keras_tqdm import TQDMNotebookCallback\n",
    "from IPython.display import SVG\n",
    "from tqdm import tqdm_notebook\n",
    "from collections import namedtuple"
   ]
  },
  {
   "cell_type": "code",
   "execution_count": 2,
   "metadata": {},
   "outputs": [
    {
     "data": {
      "text/plain": [
       "'tensorflow'"
      ]
     },
     "execution_count": 2,
     "metadata": {},
     "output_type": "execute_result"
    }
   ],
   "source": [
    "K.backend()"
   ]
  },
  {
   "cell_type": "code",
   "execution_count": 3,
   "metadata": {},
   "outputs": [
    {
     "data": {
      "text/plain": [
       "range(0, 0)"
      ]
     },
     "execution_count": 3,
     "metadata": {},
     "output_type": "execute_result"
    }
   ],
   "source": [
    "import mxnet as mx \n",
    "mx.test_utils.list_gpus()"
   ]
  },
  {
   "cell_type": "code",
   "execution_count": 4,
   "metadata": {},
   "outputs": [],
   "source": [
    "movies = pd.read_csv('data/ml-latest-medium/movies.csv')"
   ]
  },
  {
   "cell_type": "code",
   "execution_count": 5,
   "metadata": {},
   "outputs": [],
   "source": [
    "reviews = pd.read_csv('data/ml-latest-medium/ratings.csv')"
   ]
  },
  {
   "cell_type": "code",
   "execution_count": 6,
   "metadata": {},
   "outputs": [],
   "source": [
    "df = reviews.merge(movies, on='movieId')"
   ]
  },
  {
   "cell_type": "code",
   "execution_count": 7,
   "metadata": {},
   "outputs": [],
   "source": [
    "# df[df.drop_duplicates(subset='movieId').title.value_counts() > 1]"
   ]
  },
  {
   "cell_type": "code",
   "execution_count": 8,
   "metadata": {},
   "outputs": [
    {
     "data": {
      "text/plain": [
       "(138493, (138493,))"
      ]
     },
     "execution_count": 8,
     "metadata": {},
     "output_type": "execute_result"
    }
   ],
   "source": [
    "df.userId.max(), df.userId.drop_duplicates().shape"
   ]
  },
  {
   "cell_type": "code",
   "execution_count": 9,
   "metadata": {},
   "outputs": [],
   "source": [
    "# umap = df.userId.drop_duplicates().sort_values(ascending=True).reset_index().userId\n",
    "mmap = df.movieId.drop_duplicates().sort_values(ascending=True).reset_index().movieId\n",
    "# umap = {v:k for k,v in umap.items()}\n",
    "mmap = {v:k for k,v in mmap.items()}\n",
    "# df.userId = df.userId.map(umap)\n",
    "df.movieId = df.movieId.map(mmap)"
   ]
  },
  {
   "cell_type": "code",
   "execution_count": 10,
   "metadata": {},
   "outputs": [
    {
     "data": {
      "text/html": [
       "<div>\n",
       "<style scoped>\n",
       "    .dataframe tbody tr th:only-of-type {\n",
       "        vertical-align: middle;\n",
       "    }\n",
       "\n",
       "    .dataframe tbody tr th {\n",
       "        vertical-align: top;\n",
       "    }\n",
       "\n",
       "    .dataframe thead th {\n",
       "        text-align: right;\n",
       "    }\n",
       "</style>\n",
       "<table border=\"1\" class=\"dataframe\">\n",
       "  <thead>\n",
       "    <tr style=\"text-align: right;\">\n",
       "      <th></th>\n",
       "      <th>userId</th>\n",
       "      <th>movieId</th>\n",
       "      <th>rating</th>\n",
       "      <th>timestamp</th>\n",
       "      <th>title</th>\n",
       "      <th>genres</th>\n",
       "    </tr>\n",
       "  </thead>\n",
       "  <tbody>\n",
       "    <tr>\n",
       "      <th>0</th>\n",
       "      <td>1</td>\n",
       "      <td>1</td>\n",
       "      <td>3.5</td>\n",
       "      <td>1112486027</td>\n",
       "      <td>Jumanji (1995)</td>\n",
       "      <td>Adventure|Children|Fantasy</td>\n",
       "    </tr>\n",
       "    <tr>\n",
       "      <th>1</th>\n",
       "      <td>5</td>\n",
       "      <td>1</td>\n",
       "      <td>3.0</td>\n",
       "      <td>851527569</td>\n",
       "      <td>Jumanji (1995)</td>\n",
       "      <td>Adventure|Children|Fantasy</td>\n",
       "    </tr>\n",
       "    <tr>\n",
       "      <th>2</th>\n",
       "      <td>13</td>\n",
       "      <td>1</td>\n",
       "      <td>3.0</td>\n",
       "      <td>849082742</td>\n",
       "      <td>Jumanji (1995)</td>\n",
       "      <td>Adventure|Children|Fantasy</td>\n",
       "    </tr>\n",
       "    <tr>\n",
       "      <th>3</th>\n",
       "      <td>29</td>\n",
       "      <td>1</td>\n",
       "      <td>3.0</td>\n",
       "      <td>835562174</td>\n",
       "      <td>Jumanji (1995)</td>\n",
       "      <td>Adventure|Children|Fantasy</td>\n",
       "    </tr>\n",
       "    <tr>\n",
       "      <th>4</th>\n",
       "      <td>34</td>\n",
       "      <td>1</td>\n",
       "      <td>3.0</td>\n",
       "      <td>846509384</td>\n",
       "      <td>Jumanji (1995)</td>\n",
       "      <td>Adventure|Children|Fantasy</td>\n",
       "    </tr>\n",
       "  </tbody>\n",
       "</table>\n",
       "</div>"
      ],
      "text/plain": [
       "   userId  movieId  rating   timestamp           title  \\\n",
       "0       1        1     3.5  1112486027  Jumanji (1995)   \n",
       "1       5        1     3.0   851527569  Jumanji (1995)   \n",
       "2      13        1     3.0   849082742  Jumanji (1995)   \n",
       "3      29        1     3.0   835562174  Jumanji (1995)   \n",
       "4      34        1     3.0   846509384  Jumanji (1995)   \n",
       "\n",
       "                       genres  \n",
       "0  Adventure|Children|Fantasy  \n",
       "1  Adventure|Children|Fantasy  \n",
       "2  Adventure|Children|Fantasy  \n",
       "3  Adventure|Children|Fantasy  \n",
       "4  Adventure|Children|Fantasy  "
      ]
     },
     "execution_count": 10,
     "metadata": {},
     "output_type": "execute_result"
    }
   ],
   "source": [
    "df.head()"
   ]
  },
  {
   "cell_type": "code",
   "execution_count": 11,
   "metadata": {},
   "outputs": [],
   "source": [
    "# df.genres.value_counts()"
   ]
  },
  {
   "cell_type": "code",
   "execution_count": 127,
   "metadata": {},
   "outputs": [],
   "source": [
    "df_train, df_eval = train_test_split(df, test_size=0.1, shuffle=True)\n",
    "# df_eval, df_test = train_test_split(df_, test_size=0.1)\n",
    "\n",
    "def make_data(df):\n",
    "    return df.userId.values, df.movieId.values, df.rating.values\n",
    "\n",
    "U_train, M_train, R_train = make_data(df_train)\n",
    "U_eval, M_eval, R_eval = make_data(df_eval)\n",
    "# U_test, M_test, R_test = make_data(df_test)"
   ]
  },
  {
   "cell_type": "code",
   "execution_count": 128,
   "metadata": {},
   "outputs": [
    {
     "data": {
      "text/plain": [
       "(138493, 26743)"
      ]
     },
     "execution_count": 128,
     "metadata": {},
     "output_type": "execute_result"
    }
   ],
   "source": [
    "MAX_U = df.userId.max()\n",
    "MAX_M = df.movieId.max()\n",
    "MAX_U, MAX_M"
   ]
  },
  {
   "cell_type": "code",
   "execution_count": 129,
   "metadata": {},
   "outputs": [],
   "source": [
    "EMBEDDINGS_DIM = 30\n",
    "BIAS_EMBEDDINGS_DIM = EMBEDDINGS_DIM\n",
    "BATCH_SIZE = 2**18\n",
    "\n",
    "def build_model():\n",
    "    u_input = Input(shape=(1,), dtype='int32')\n",
    "    m_input = Input(shape=(1,), dtype='int32')\n",
    "    u_branch = Embedding(MAX_U+1, EMBEDDINGS_DIM, name='user')(u_input)\n",
    "    u_branch = Dropout(0.2)(u_branch)\n",
    "    m_branch = Embedding(MAX_M+1, EMBEDDINGS_DIM, name='movie')(m_input)\n",
    "    m_branch = Dropout(0.2)(m_branch)\n",
    "    u_bias = Embedding(MAX_U+1, BIAS_EMBEDDINGS_DIM, name='user_bias')(u_input)\n",
    "    m_bias = Embedding(MAX_M+1, BIAS_EMBEDDINGS_DIM, name='movie_bias')(m_input)\n",
    "    joint1 = dot([u_branch, m_branch], axes=-1)\n",
    "    middle = Flatten()(joint1)\n",
    "    joint2 = add([u_bias, middle, m_bias])\n",
    "    sequence = Sequential([\n",
    "        Flatten(),\n",
    "        Dense(256),\n",
    "        Activation('relu'),\n",
    "        Dropout(0.2),\n",
    "        Dense(1),\n",
    "    ])\n",
    "    output = sequence(joint2)\n",
    "    return Model([u_input, m_input], output)"
   ]
  },
  {
   "cell_type": "code",
   "execution_count": 135,
   "metadata": {},
   "outputs": [
    {
     "name": "stdout",
     "output_type": "stream",
     "text": [
      "__________________________________________________________________________________________________\n",
      "Layer (type)                    Output Shape         Param #     Connected to                     \n",
      "==================================================================================================\n",
      "input_15 (InputLayer)           (None, 1)            0                                            \n",
      "__________________________________________________________________________________________________\n",
      "input_16 (InputLayer)           (None, 1)            0                                            \n",
      "__________________________________________________________________________________________________\n",
      "user (Embedding)                (None, 1, 30)        4154820     input_15[0][0]                   \n",
      "__________________________________________________________________________________________________\n",
      "movie (Embedding)               (None, 1, 30)        802320      input_16[0][0]                   \n",
      "__________________________________________________________________________________________________\n",
      "dropout_9 (Dropout)             (None, 1, 30)        0           user[0][0]                       \n",
      "__________________________________________________________________________________________________\n",
      "dropout_10 (Dropout)            (None, 1, 30)        0           movie[0][0]                      \n",
      "__________________________________________________________________________________________________\n",
      "dot_8 (Dot)                     (None, 1, 1)         0           dropout_9[0][0]                  \n",
      "                                                                 dropout_10[0][0]                 \n",
      "__________________________________________________________________________________________________\n",
      "user_bias (Embedding)           (None, 1, 30)        4154820     input_15[0][0]                   \n",
      "__________________________________________________________________________________________________\n",
      "flatten_15 (Flatten)            (None, 1)            0           dot_8[0][0]                      \n",
      "__________________________________________________________________________________________________\n",
      "movie_bias (Embedding)          (None, 1, 30)        802320      input_16[0][0]                   \n",
      "__________________________________________________________________________________________________\n",
      "add_8 (Add)                     (None, 1, 30)        0           user_bias[0][0]                  \n",
      "                                                                 flatten_15[0][0]                 \n",
      "                                                                 movie_bias[0][0]                 \n",
      "__________________________________________________________________________________________________\n",
      "sequential_8 (Sequential)       (None, 1)            8193        add_8[0][0]                      \n",
      "==================================================================================================\n",
      "Total params: 9,922,473\n",
      "Trainable params: 9,922,473\n",
      "Non-trainable params: 0\n",
      "__________________________________________________________________________________________________\n"
     ]
    }
   ],
   "source": [
    "def rmse(y_true, y_pred):\n",
    "    return K.sqrt(K.mean(K.square(y_true - y_pred), axis=-1))\n",
    "\n",
    "model = build_model()\n",
    "\n",
    "model.compile(\n",
    "    loss='mae',\n",
    "    optimizer='adam',\n",
    "    metrics=[rmse],\n",
    ")\n",
    "\n",
    "model.summary()"
   ]
  },
  {
   "cell_type": "code",
   "execution_count": 136,
   "metadata": {},
   "outputs": [],
   "source": [
    "# n = 25"
   ]
  },
  {
   "cell_type": "code",
   "execution_count": 137,
   "metadata": {},
   "outputs": [],
   "source": [
    "n += 1"
   ]
  },
  {
   "cell_type": "code",
   "execution_count": 138,
   "metadata": {},
   "outputs": [],
   "source": [
    "LOGDIR = '/tmp/runs'\n",
    "\n",
    "# with open(f'{LOGDIR}/metadata.tsv', 'w') as fi:\n",
    "#     np.savetxt(fi, R_eval)\n",
    "# embeddings_metadata = {\n",
    "#     'movie': f'{LOGDIR}/metadata.tsv',\n",
    "# }\n",
    "\n",
    "tensorboard = TensorBoard(\n",
    "    log_dir=f'{LOGDIR}/{n}',\n",
    "    update_freq='batch',\n",
    "#     histogram_freq=10,\n",
    "#     write_graph=False,\n",
    "#     embeddings_freq=1,\n",
    "#     embeddings_layer_names=['movie'],\n",
    "#     embeddings_metadata=embeddings_metadata,\n",
    "#     embeddings_data=[U_eval, M_eval],\n",
    ")"
   ]
  },
  {
   "cell_type": "code",
   "execution_count": 139,
   "metadata": {},
   "outputs": [
    {
     "name": "stdout",
     "output_type": "stream",
     "text": [
      "Run: 33 Batch Size: 262144\n"
     ]
    },
    {
     "data": {
      "application/vnd.jupyter.widget-view+json": {
       "model_id": "c01a330bb23f4bbcb8e4ab06cf484859",
       "version_major": 2,
       "version_minor": 0
      },
      "text/plain": [
       "HBox(children=(IntProgress(value=0, description='Training', max=24, style=ProgressStyle(description_width='ini…"
      ]
     },
     "metadata": {},
     "output_type": "display_data"
    },
    {
     "data": {
      "application/vnd.jupyter.widget-view+json": {
       "model_id": "",
       "version_major": 2,
       "version_minor": 0
      },
      "text/plain": [
       "HBox(children=(IntProgress(value=0, description='Epoch 0', max=18000236, style=ProgressStyle(description_width…"
      ]
     },
     "metadata": {},
     "output_type": "display_data"
    },
    {
     "data": {
      "application/vnd.jupyter.widget-view+json": {
       "model_id": "",
       "version_major": 2,
       "version_minor": 0
      },
      "text/plain": [
       "HBox(children=(IntProgress(value=0, description='Epoch 1', max=18000236, style=ProgressStyle(description_width…"
      ]
     },
     "metadata": {},
     "output_type": "display_data"
    },
    {
     "data": {
      "application/vnd.jupyter.widget-view+json": {
       "model_id": "",
       "version_major": 2,
       "version_minor": 0
      },
      "text/plain": [
       "HBox(children=(IntProgress(value=0, description='Epoch 2', max=18000236, style=ProgressStyle(description_width…"
      ]
     },
     "metadata": {},
     "output_type": "display_data"
    },
    {
     "data": {
      "application/vnd.jupyter.widget-view+json": {
       "model_id": "",
       "version_major": 2,
       "version_minor": 0
      },
      "text/plain": [
       "HBox(children=(IntProgress(value=0, description='Epoch 3', max=18000236, style=ProgressStyle(description_width…"
      ]
     },
     "metadata": {},
     "output_type": "display_data"
    },
    {
     "data": {
      "application/vnd.jupyter.widget-view+json": {
       "model_id": "",
       "version_major": 2,
       "version_minor": 0
      },
      "text/plain": [
       "HBox(children=(IntProgress(value=0, description='Epoch 4', max=18000236, style=ProgressStyle(description_width…"
      ]
     },
     "metadata": {},
     "output_type": "display_data"
    },
    {
     "data": {
      "application/vnd.jupyter.widget-view+json": {
       "model_id": "",
       "version_major": 2,
       "version_minor": 0
      },
      "text/plain": [
       "HBox(children=(IntProgress(value=0, description='Epoch 5', max=18000236, style=ProgressStyle(description_width…"
      ]
     },
     "metadata": {},
     "output_type": "display_data"
    },
    {
     "data": {
      "application/vnd.jupyter.widget-view+json": {
       "model_id": "",
       "version_major": 2,
       "version_minor": 0
      },
      "text/plain": [
       "HBox(children=(IntProgress(value=0, description='Epoch 6', max=18000236, style=ProgressStyle(description_width…"
      ]
     },
     "metadata": {},
     "output_type": "display_data"
    },
    {
     "data": {
      "application/vnd.jupyter.widget-view+json": {
       "model_id": "",
       "version_major": 2,
       "version_minor": 0
      },
      "text/plain": [
       "HBox(children=(IntProgress(value=0, description='Epoch 7', max=18000236, style=ProgressStyle(description_width…"
      ]
     },
     "metadata": {},
     "output_type": "display_data"
    },
    {
     "data": {
      "application/vnd.jupyter.widget-view+json": {
       "model_id": "",
       "version_major": 2,
       "version_minor": 0
      },
      "text/plain": [
       "HBox(children=(IntProgress(value=0, description='Epoch 8', max=18000236, style=ProgressStyle(description_width…"
      ]
     },
     "metadata": {},
     "output_type": "display_data"
    },
    {
     "data": {
      "application/vnd.jupyter.widget-view+json": {
       "model_id": "",
       "version_major": 2,
       "version_minor": 0
      },
      "text/plain": [
       "HBox(children=(IntProgress(value=0, description='Epoch 9', max=18000236, style=ProgressStyle(description_width…"
      ]
     },
     "metadata": {},
     "output_type": "display_data"
    },
    {
     "data": {
      "application/vnd.jupyter.widget-view+json": {
       "model_id": "",
       "version_major": 2,
       "version_minor": 0
      },
      "text/plain": [
       "HBox(children=(IntProgress(value=0, description='Epoch 10', max=18000236, style=ProgressStyle(description_widt…"
      ]
     },
     "metadata": {},
     "output_type": "display_data"
    },
    {
     "data": {
      "application/vnd.jupyter.widget-view+json": {
       "model_id": "",
       "version_major": 2,
       "version_minor": 0
      },
      "text/plain": [
       "HBox(children=(IntProgress(value=0, description='Epoch 11', max=18000236, style=ProgressStyle(description_widt…"
      ]
     },
     "metadata": {},
     "output_type": "display_data"
    },
    {
     "data": {
      "application/vnd.jupyter.widget-view+json": {
       "model_id": "",
       "version_major": 2,
       "version_minor": 0
      },
      "text/plain": [
       "HBox(children=(IntProgress(value=0, description='Epoch 12', max=18000236, style=ProgressStyle(description_widt…"
      ]
     },
     "metadata": {},
     "output_type": "display_data"
    },
    {
     "data": {
      "application/vnd.jupyter.widget-view+json": {
       "model_id": "",
       "version_major": 2,
       "version_minor": 0
      },
      "text/plain": [
       "HBox(children=(IntProgress(value=0, description='Epoch 13', max=18000236, style=ProgressStyle(description_widt…"
      ]
     },
     "metadata": {},
     "output_type": "display_data"
    },
    {
     "data": {
      "application/vnd.jupyter.widget-view+json": {
       "model_id": "",
       "version_major": 2,
       "version_minor": 0
      },
      "text/plain": [
       "HBox(children=(IntProgress(value=0, description='Epoch 14', max=18000236, style=ProgressStyle(description_widt…"
      ]
     },
     "metadata": {},
     "output_type": "display_data"
    },
    {
     "data": {
      "application/vnd.jupyter.widget-view+json": {
       "model_id": "",
       "version_major": 2,
       "version_minor": 0
      },
      "text/plain": [
       "HBox(children=(IntProgress(value=0, description='Epoch 15', max=18000236, style=ProgressStyle(description_widt…"
      ]
     },
     "metadata": {},
     "output_type": "display_data"
    },
    {
     "data": {
      "application/vnd.jupyter.widget-view+json": {
       "model_id": "",
       "version_major": 2,
       "version_minor": 0
      },
      "text/plain": [
       "HBox(children=(IntProgress(value=0, description='Epoch 16', max=18000236, style=ProgressStyle(description_widt…"
      ]
     },
     "metadata": {},
     "output_type": "display_data"
    },
    {
     "data": {
      "application/vnd.jupyter.widget-view+json": {
       "model_id": "",
       "version_major": 2,
       "version_minor": 0
      },
      "text/plain": [
       "HBox(children=(IntProgress(value=0, description='Epoch 17', max=18000236, style=ProgressStyle(description_widt…"
      ]
     },
     "metadata": {},
     "output_type": "display_data"
    },
    {
     "data": {
      "application/vnd.jupyter.widget-view+json": {
       "model_id": "",
       "version_major": 2,
       "version_minor": 0
      },
      "text/plain": [
       "HBox(children=(IntProgress(value=0, description='Epoch 18', max=18000236, style=ProgressStyle(description_widt…"
      ]
     },
     "metadata": {},
     "output_type": "display_data"
    },
    {
     "data": {
      "application/vnd.jupyter.widget-view+json": {
       "model_id": "",
       "version_major": 2,
       "version_minor": 0
      },
      "text/plain": [
       "HBox(children=(IntProgress(value=0, description='Epoch 19', max=18000236, style=ProgressStyle(description_widt…"
      ]
     },
     "metadata": {},
     "output_type": "display_data"
    },
    {
     "data": {
      "application/vnd.jupyter.widget-view+json": {
       "model_id": "",
       "version_major": 2,
       "version_minor": 0
      },
      "text/plain": [
       "HBox(children=(IntProgress(value=0, description='Epoch 20', max=18000236, style=ProgressStyle(description_widt…"
      ]
     },
     "metadata": {},
     "output_type": "display_data"
    },
    {
     "data": {
      "application/vnd.jupyter.widget-view+json": {
       "model_id": "",
       "version_major": 2,
       "version_minor": 0
      },
      "text/plain": [
       "HBox(children=(IntProgress(value=0, description='Epoch 21', max=18000236, style=ProgressStyle(description_widt…"
      ]
     },
     "metadata": {},
     "output_type": "display_data"
    },
    {
     "data": {
      "application/vnd.jupyter.widget-view+json": {
       "model_id": "",
       "version_major": 2,
       "version_minor": 0
      },
      "text/plain": [
       "HBox(children=(IntProgress(value=0, description='Epoch 22', max=18000236, style=ProgressStyle(description_widt…"
      ]
     },
     "metadata": {},
     "output_type": "display_data"
    },
    {
     "data": {
      "application/vnd.jupyter.widget-view+json": {
       "model_id": "",
       "version_major": 2,
       "version_minor": 0
      },
      "text/plain": [
       "HBox(children=(IntProgress(value=0, description='Epoch 23', max=18000236, style=ProgressStyle(description_widt…"
      ]
     },
     "metadata": {},
     "output_type": "display_data"
    },
    {
     "data": {
      "text/plain": [
       "<keras.callbacks.History at 0x18def600ef0>"
      ]
     },
     "execution_count": 139,
     "metadata": {},
     "output_type": "execute_result"
    }
   ],
   "source": [
    "inputs = [U_train, M_train]\n",
    "outputs = R_train\n",
    "\n",
    "inputs_eval = [U_eval, M_eval]\n",
    "outputs_eval = R_eval\n",
    "\n",
    "print(f'Run: {n} Batch Size: {BATCH_SIZE}')\n",
    "model.fit(\n",
    "    x=inputs,\n",
    "    y=outputs,\n",
    "    batch_size=BATCH_SIZE,\n",
    "    epochs=24,\n",
    "    validation_data=(inputs_eval, outputs_eval),\n",
    "    verbose=False,\n",
    "    callbacks=[TQDMNotebookCallback(), tensorboard],\n",
    ")"
   ]
  },
  {
   "cell_type": "code",
   "execution_count": 140,
   "metadata": {},
   "outputs": [
    {
     "data": {
      "text/plain": [
       "((138494, 30), (26744, 30))"
      ]
     },
     "execution_count": 140,
     "metadata": {},
     "output_type": "execute_result"
    }
   ],
   "source": [
    "embedding_u = model.get_layer(\"user\").get_weights()[0]\n",
    "embedding_m = model.get_layer(\"movie\").get_weights()[0]\n",
    "results = embedding_m\n",
    "embedding_u.shape, embedding_m.shape"
   ]
  },
  {
   "cell_type": "code",
   "execution_count": 141,
   "metadata": {},
   "outputs": [],
   "source": [
    "# SVG(model_to_dot(model,  show_shapes=True, show_layer_names=True, rankdir='HB').create(prog='dot', format='svg'))"
   ]
  },
  {
   "cell_type": "code",
   "execution_count": 142,
   "metadata": {},
   "outputs": [
    {
     "data": {
      "text/plain": [
       "(26744, 3)"
      ]
     },
     "execution_count": 142,
     "metadata": {},
     "output_type": "execute_result"
    }
   ],
   "source": [
    "results = PCA(n_components=3).fit_transform(embedding_m)\n",
    "results.shape"
   ]
  },
  {
   "cell_type": "code",
   "execution_count": 143,
   "metadata": {},
   "outputs": [],
   "source": [
    "g = pd.DataFrame({\n",
    "    'movieId': df.drop_duplicates(subset='movieId').sort_values(by='movieId', ascending=True).title.values,\n",
    "    'x1': results[:, 0],\n",
    "    'x2': results[:, 1],\n",
    "    'x3': results[:, 2],\n",
    "#     'x4': results[:, 3],\n",
    "}).drop_duplicates()"
   ]
  },
  {
   "cell_type": "code",
   "execution_count": 144,
   "metadata": {},
   "outputs": [
    {
     "data": {
      "text/html": [
       "<div>\n",
       "<style scoped>\n",
       "    .dataframe tbody tr th:only-of-type {\n",
       "        vertical-align: middle;\n",
       "    }\n",
       "\n",
       "    .dataframe tbody tr th {\n",
       "        vertical-align: top;\n",
       "    }\n",
       "\n",
       "    .dataframe thead th {\n",
       "        text-align: right;\n",
       "    }\n",
       "</style>\n",
       "<table border=\"1\" class=\"dataframe\">\n",
       "  <thead>\n",
       "    <tr style=\"text-align: right;\">\n",
       "      <th></th>\n",
       "      <th>movieId</th>\n",
       "      <th>x1</th>\n",
       "      <th>x2</th>\n",
       "      <th>x3</th>\n",
       "    </tr>\n",
       "  </thead>\n",
       "  <tbody>\n",
       "    <tr>\n",
       "      <th>10026</th>\n",
       "      <td>F for Fake (Vérités et mensonges) (1973)</td>\n",
       "      <td>-0.491283</td>\n",
       "      <td>0.089093</td>\n",
       "      <td>-0.041550</td>\n",
       "    </tr>\n",
       "    <tr>\n",
       "      <th>14796</th>\n",
       "      <td>Holy Innocents, The (Santos inocentes, Los) (1...</td>\n",
       "      <td>-0.468389</td>\n",
       "      <td>0.051958</td>\n",
       "      <td>-0.013234</td>\n",
       "    </tr>\n",
       "    <tr>\n",
       "      <th>10751</th>\n",
       "      <td>Shadows of Our Forgotten Ancestors (Tini zabut...</td>\n",
       "      <td>-0.461648</td>\n",
       "      <td>0.109785</td>\n",
       "      <td>0.165168</td>\n",
       "    </tr>\n",
       "    <tr>\n",
       "      <th>9977</th>\n",
       "      <td>Maidens in Uniform (Mädchen in Uniform) (1931)</td>\n",
       "      <td>-0.454711</td>\n",
       "      <td>0.074189</td>\n",
       "      <td>-0.115190</td>\n",
       "    </tr>\n",
       "    <tr>\n",
       "      <th>6063</th>\n",
       "      <td>Gerry (2002)</td>\n",
       "      <td>-0.452466</td>\n",
       "      <td>0.430455</td>\n",
       "      <td>-0.022343</td>\n",
       "    </tr>\n",
       "    <tr>\n",
       "      <th>10819</th>\n",
       "      <td>Wind, The (1928)</td>\n",
       "      <td>-0.450727</td>\n",
       "      <td>-0.078633</td>\n",
       "      <td>-0.246245</td>\n",
       "    </tr>\n",
       "    <tr>\n",
       "      <th>23944</th>\n",
       "      <td>Force Majeure (Turist) (2014)</td>\n",
       "      <td>-0.447167</td>\n",
       "      <td>0.145478</td>\n",
       "      <td>0.108154</td>\n",
       "    </tr>\n",
       "    <tr>\n",
       "      <th>11026</th>\n",
       "      <td>Earth Is a Sinful Song, The (Maa on syntinen l...</td>\n",
       "      <td>-0.437697</td>\n",
       "      <td>-0.092284</td>\n",
       "      <td>-0.088353</td>\n",
       "    </tr>\n",
       "    <tr>\n",
       "      <th>3585</th>\n",
       "      <td>Eraserhead (1977)</td>\n",
       "      <td>-0.436900</td>\n",
       "      <td>0.479260</td>\n",
       "      <td>0.016895</td>\n",
       "    </tr>\n",
       "    <tr>\n",
       "      <th>17165</th>\n",
       "      <td>Tree of Life, The (2011)</td>\n",
       "      <td>-0.436566</td>\n",
       "      <td>0.284328</td>\n",
       "      <td>-0.054131</td>\n",
       "    </tr>\n",
       "  </tbody>\n",
       "</table>\n",
       "</div>"
      ],
      "text/plain": [
       "                                                 movieId        x1        x2  \\\n",
       "10026           F for Fake (Vérités et mensonges) (1973) -0.491283  0.089093   \n",
       "14796  Holy Innocents, The (Santos inocentes, Los) (1... -0.468389  0.051958   \n",
       "10751  Shadows of Our Forgotten Ancestors (Tini zabut... -0.461648  0.109785   \n",
       "9977      Maidens in Uniform (Mädchen in Uniform) (1931) -0.454711  0.074189   \n",
       "6063                                        Gerry (2002) -0.452466  0.430455   \n",
       "10819                                   Wind, The (1928) -0.450727 -0.078633   \n",
       "23944                      Force Majeure (Turist) (2014) -0.447167  0.145478   \n",
       "11026  Earth Is a Sinful Song, The (Maa on syntinen l... -0.437697 -0.092284   \n",
       "3585                                   Eraserhead (1977) -0.436900  0.479260   \n",
       "17165                           Tree of Life, The (2011) -0.436566  0.284328   \n",
       "\n",
       "             x3  \n",
       "10026 -0.041550  \n",
       "14796 -0.013234  \n",
       "10751  0.165168  \n",
       "9977  -0.115190  \n",
       "6063  -0.022343  \n",
       "10819 -0.246245  \n",
       "23944  0.108154  \n",
       "11026 -0.088353  \n",
       "3585   0.016895  \n",
       "17165 -0.054131  "
      ]
     },
     "execution_count": 144,
     "metadata": {},
     "output_type": "execute_result"
    }
   ],
   "source": [
    "g.nsmallest(10, ['x1'])"
   ]
  },
  {
   "cell_type": "code",
   "execution_count": 145,
   "metadata": {},
   "outputs": [
    {
     "data": {
      "text/html": [
       "<div>\n",
       "<style scoped>\n",
       "    .dataframe tbody tr th:only-of-type {\n",
       "        vertical-align: middle;\n",
       "    }\n",
       "\n",
       "    .dataframe tbody tr th {\n",
       "        vertical-align: top;\n",
       "    }\n",
       "\n",
       "    .dataframe thead th {\n",
       "        text-align: right;\n",
       "    }\n",
       "</style>\n",
       "<table border=\"1\" class=\"dataframe\">\n",
       "  <thead>\n",
       "    <tr style=\"text-align: right;\">\n",
       "      <th></th>\n",
       "      <th>movieId</th>\n",
       "      <th>x1</th>\n",
       "      <th>x2</th>\n",
       "      <th>x3</th>\n",
       "    </tr>\n",
       "  </thead>\n",
       "  <tbody>\n",
       "    <tr>\n",
       "      <th>5733</th>\n",
       "      <td>Left Behind II: Tribulation Force (2002)</td>\n",
       "      <td>0.642071</td>\n",
       "      <td>-0.055500</td>\n",
       "      <td>-0.157865</td>\n",
       "    </tr>\n",
       "    <tr>\n",
       "      <th>3502</th>\n",
       "      <td>Battlefield Earth (2000)</td>\n",
       "      <td>0.618995</td>\n",
       "      <td>0.266555</td>\n",
       "      <td>0.025620</td>\n",
       "    </tr>\n",
       "    <tr>\n",
       "      <th>7787</th>\n",
       "      <td>Police Academy: Mission to Moscow (1994)</td>\n",
       "      <td>0.618435</td>\n",
       "      <td>0.298555</td>\n",
       "      <td>0.118414</td>\n",
       "    </tr>\n",
       "    <tr>\n",
       "      <th>10503</th>\n",
       "      <td>Left Behind: World at War (2005)</td>\n",
       "      <td>0.617891</td>\n",
       "      <td>-0.086231</td>\n",
       "      <td>-0.137918</td>\n",
       "    </tr>\n",
       "    <tr>\n",
       "      <th>5716</th>\n",
       "      <td>Half Past Dead (2002)</td>\n",
       "      <td>0.602497</td>\n",
       "      <td>0.108714</td>\n",
       "      <td>0.015240</td>\n",
       "    </tr>\n",
       "    <tr>\n",
       "      <th>4048</th>\n",
       "      <td>Left Behind: The Movie (2000)</td>\n",
       "      <td>0.582002</td>\n",
       "      <td>-0.126207</td>\n",
       "      <td>-0.110105</td>\n",
       "    </tr>\n",
       "    <tr>\n",
       "      <th>7876</th>\n",
       "      <td>White Chicks (2004)</td>\n",
       "      <td>0.579359</td>\n",
       "      <td>0.273695</td>\n",
       "      <td>-0.263774</td>\n",
       "    </tr>\n",
       "    <tr>\n",
       "      <th>12050</th>\n",
       "      <td>Daddy Day Camp (2007)</td>\n",
       "      <td>0.577558</td>\n",
       "      <td>0.128837</td>\n",
       "      <td>-0.063138</td>\n",
       "    </tr>\n",
       "    <tr>\n",
       "      <th>7983</th>\n",
       "      <td>Catwoman (2004)</td>\n",
       "      <td>0.576042</td>\n",
       "      <td>0.096424</td>\n",
       "      <td>-0.082874</td>\n",
       "    </tr>\n",
       "    <tr>\n",
       "      <th>10929</th>\n",
       "      <td>Larry the Cable Guy: Health Inspector (2006)</td>\n",
       "      <td>0.575491</td>\n",
       "      <td>0.213301</td>\n",
       "      <td>-0.097619</td>\n",
       "    </tr>\n",
       "  </tbody>\n",
       "</table>\n",
       "</div>"
      ],
      "text/plain": [
       "                                            movieId        x1        x2  \\\n",
       "5733       Left Behind II: Tribulation Force (2002)  0.642071 -0.055500   \n",
       "3502                       Battlefield Earth (2000)  0.618995  0.266555   \n",
       "7787       Police Academy: Mission to Moscow (1994)  0.618435  0.298555   \n",
       "10503              Left Behind: World at War (2005)  0.617891 -0.086231   \n",
       "5716                          Half Past Dead (2002)  0.602497  0.108714   \n",
       "4048                  Left Behind: The Movie (2000)  0.582002 -0.126207   \n",
       "7876                            White Chicks (2004)  0.579359  0.273695   \n",
       "12050                         Daddy Day Camp (2007)  0.577558  0.128837   \n",
       "7983                                Catwoman (2004)  0.576042  0.096424   \n",
       "10929  Larry the Cable Guy: Health Inspector (2006)  0.575491  0.213301   \n",
       "\n",
       "             x3  \n",
       "5733  -0.157865  \n",
       "3502   0.025620  \n",
       "7787   0.118414  \n",
       "10503 -0.137918  \n",
       "5716   0.015240  \n",
       "4048  -0.110105  \n",
       "7876  -0.263774  \n",
       "12050 -0.063138  \n",
       "7983  -0.082874  \n",
       "10929 -0.097619  "
      ]
     },
     "execution_count": 145,
     "metadata": {},
     "output_type": "execute_result"
    }
   ],
   "source": [
    "g.nlargest(10, ['x1'])"
   ]
  },
  {
   "cell_type": "code",
   "execution_count": 146,
   "metadata": {},
   "outputs": [
    {
     "data": {
      "text/html": [
       "<div>\n",
       "<style scoped>\n",
       "    .dataframe tbody tr th:only-of-type {\n",
       "        vertical-align: middle;\n",
       "    }\n",
       "\n",
       "    .dataframe tbody tr th {\n",
       "        vertical-align: top;\n",
       "    }\n",
       "\n",
       "    .dataframe thead th {\n",
       "        text-align: right;\n",
       "    }\n",
       "</style>\n",
       "<table border=\"1\" class=\"dataframe\">\n",
       "  <thead>\n",
       "    <tr style=\"text-align: right;\">\n",
       "      <th></th>\n",
       "      <th>movieId</th>\n",
       "      <th>x1</th>\n",
       "      <th>x2</th>\n",
       "      <th>x3</th>\n",
       "    </tr>\n",
       "  </thead>\n",
       "  <tbody>\n",
       "    <tr>\n",
       "      <th>12617</th>\n",
       "      <td>Expelled: No Intelligence Allowed (2008)</td>\n",
       "      <td>0.550430</td>\n",
       "      <td>-0.386263</td>\n",
       "      <td>-0.212577</td>\n",
       "    </tr>\n",
       "    <tr>\n",
       "      <th>26328</th>\n",
       "      <td>The Coven (2015)</td>\n",
       "      <td>-0.177224</td>\n",
       "      <td>-0.373833</td>\n",
       "      <td>0.025982</td>\n",
       "    </tr>\n",
       "    <tr>\n",
       "      <th>1650</th>\n",
       "      <td>Legal Deceit (1997)</td>\n",
       "      <td>0.025363</td>\n",
       "      <td>-0.362211</td>\n",
       "      <td>-0.264308</td>\n",
       "    </tr>\n",
       "    <tr>\n",
       "      <th>17055</th>\n",
       "      <td>Voices from the List (2004)</td>\n",
       "      <td>-0.084845</td>\n",
       "      <td>-0.355584</td>\n",
       "      <td>-0.138595</td>\n",
       "    </tr>\n",
       "    <tr>\n",
       "      <th>23098</th>\n",
       "      <td>God's Not Dead (2014)</td>\n",
       "      <td>0.255486</td>\n",
       "      <td>-0.353577</td>\n",
       "      <td>0.025555</td>\n",
       "    </tr>\n",
       "    <tr>\n",
       "      <th>20458</th>\n",
       "      <td>Tale of Tales (Skazka skazok) (1979)</td>\n",
       "      <td>-0.423230</td>\n",
       "      <td>-0.350100</td>\n",
       "      <td>-0.215219</td>\n",
       "    </tr>\n",
       "    <tr>\n",
       "      <th>1273</th>\n",
       "      <td>Field of Dreams (1989)</td>\n",
       "      <td>0.026809</td>\n",
       "      <td>-0.349674</td>\n",
       "      <td>-0.083396</td>\n",
       "    </tr>\n",
       "    <tr>\n",
       "      <th>21594</th>\n",
       "      <td>Salinger (2013)</td>\n",
       "      <td>-0.193698</td>\n",
       "      <td>-0.343570</td>\n",
       "      <td>0.051226</td>\n",
       "    </tr>\n",
       "    <tr>\n",
       "      <th>23902</th>\n",
       "      <td>No Good Deed (2014)</td>\n",
       "      <td>0.286164</td>\n",
       "      <td>-0.342077</td>\n",
       "      <td>-0.070183</td>\n",
       "    </tr>\n",
       "    <tr>\n",
       "      <th>22917</th>\n",
       "      <td>Superpower (2008)</td>\n",
       "      <td>-0.226642</td>\n",
       "      <td>-0.332606</td>\n",
       "      <td>-0.025593</td>\n",
       "    </tr>\n",
       "  </tbody>\n",
       "</table>\n",
       "</div>"
      ],
      "text/plain": [
       "                                        movieId        x1        x2        x3\n",
       "12617  Expelled: No Intelligence Allowed (2008)  0.550430 -0.386263 -0.212577\n",
       "26328                          The Coven (2015) -0.177224 -0.373833  0.025982\n",
       "1650                        Legal Deceit (1997)  0.025363 -0.362211 -0.264308\n",
       "17055               Voices from the List (2004) -0.084845 -0.355584 -0.138595\n",
       "23098                     God's Not Dead (2014)  0.255486 -0.353577  0.025555\n",
       "20458      Tale of Tales (Skazka skazok) (1979) -0.423230 -0.350100 -0.215219\n",
       "1273                     Field of Dreams (1989)  0.026809 -0.349674 -0.083396\n",
       "21594                           Salinger (2013) -0.193698 -0.343570  0.051226\n",
       "23902                       No Good Deed (2014)  0.286164 -0.342077 -0.070183\n",
       "22917                         Superpower (2008) -0.226642 -0.332606 -0.025593"
      ]
     },
     "execution_count": 146,
     "metadata": {},
     "output_type": "execute_result"
    }
   ],
   "source": [
    "g.nsmallest(10, ['x2'])"
   ]
  },
  {
   "cell_type": "code",
   "execution_count": 147,
   "metadata": {},
   "outputs": [
    {
     "data": {
      "text/html": [
       "<div>\n",
       "<style scoped>\n",
       "    .dataframe tbody tr th:only-of-type {\n",
       "        vertical-align: middle;\n",
       "    }\n",
       "\n",
       "    .dataframe tbody tr th {\n",
       "        vertical-align: top;\n",
       "    }\n",
       "\n",
       "    .dataframe thead th {\n",
       "        text-align: right;\n",
       "    }\n",
       "</style>\n",
       "<table border=\"1\" class=\"dataframe\">\n",
       "  <thead>\n",
       "    <tr style=\"text-align: right;\">\n",
       "      <th></th>\n",
       "      <th>movieId</th>\n",
       "      <th>x1</th>\n",
       "      <th>x2</th>\n",
       "      <th>x3</th>\n",
       "    </tr>\n",
       "  </thead>\n",
       "  <tbody>\n",
       "    <tr>\n",
       "      <th>4161</th>\n",
       "      <td>Freddy Got Fingered (2001)</td>\n",
       "      <td>0.223290</td>\n",
       "      <td>0.822073</td>\n",
       "      <td>0.161319</td>\n",
       "    </tr>\n",
       "    <tr>\n",
       "      <th>5675</th>\n",
       "      <td>Night of the Zombies (a.k.a. Batallion of the ...</td>\n",
       "      <td>0.040791</td>\n",
       "      <td>0.657120</td>\n",
       "      <td>0.064063</td>\n",
       "    </tr>\n",
       "    <tr>\n",
       "      <th>2375</th>\n",
       "      <td>Texas Chainsaw Massacre 2, The (1986)</td>\n",
       "      <td>-0.005997</td>\n",
       "      <td>0.651778</td>\n",
       "      <td>-0.234152</td>\n",
       "    </tr>\n",
       "    <tr>\n",
       "      <th>14912</th>\n",
       "      <td>Room, The (2003)</td>\n",
       "      <td>0.086662</td>\n",
       "      <td>0.608836</td>\n",
       "      <td>0.093417</td>\n",
       "    </tr>\n",
       "    <tr>\n",
       "      <th>5792</th>\n",
       "      <td>I Spit on Your Grave (Day of the Woman) (1978)</td>\n",
       "      <td>0.140255</td>\n",
       "      <td>0.602334</td>\n",
       "      <td>0.013982</td>\n",
       "    </tr>\n",
       "    <tr>\n",
       "      <th>5064</th>\n",
       "      <td>Night of the Zombies (a.k.a. Hell of the Livin...</td>\n",
       "      <td>0.065371</td>\n",
       "      <td>0.591193</td>\n",
       "      <td>-0.058014</td>\n",
       "    </tr>\n",
       "    <tr>\n",
       "      <th>4278</th>\n",
       "      <td>Pootie Tang (2001)</td>\n",
       "      <td>0.048356</td>\n",
       "      <td>0.586252</td>\n",
       "      <td>-0.126975</td>\n",
       "    </tr>\n",
       "    <tr>\n",
       "      <th>3844</th>\n",
       "      <td>Slumber Party Massacre, The (1982)</td>\n",
       "      <td>0.245828</td>\n",
       "      <td>0.574628</td>\n",
       "      <td>-0.156493</td>\n",
       "    </tr>\n",
       "    <tr>\n",
       "      <th>1840</th>\n",
       "      <td>Plan 9 from Outer Space (1959)</td>\n",
       "      <td>-0.134340</td>\n",
       "      <td>0.569585</td>\n",
       "      <td>-0.051789</td>\n",
       "    </tr>\n",
       "    <tr>\n",
       "      <th>8284</th>\n",
       "      <td>Seed of Chucky (Child's Play 5) (2004)</td>\n",
       "      <td>0.145310</td>\n",
       "      <td>0.559072</td>\n",
       "      <td>-0.256268</td>\n",
       "    </tr>\n",
       "  </tbody>\n",
       "</table>\n",
       "</div>"
      ],
      "text/plain": [
       "                                                 movieId        x1        x2  \\\n",
       "4161                          Freddy Got Fingered (2001)  0.223290  0.822073   \n",
       "5675   Night of the Zombies (a.k.a. Batallion of the ...  0.040791  0.657120   \n",
       "2375               Texas Chainsaw Massacre 2, The (1986) -0.005997  0.651778   \n",
       "14912                                   Room, The (2003)  0.086662  0.608836   \n",
       "5792      I Spit on Your Grave (Day of the Woman) (1978)  0.140255  0.602334   \n",
       "5064   Night of the Zombies (a.k.a. Hell of the Livin...  0.065371  0.591193   \n",
       "4278                                  Pootie Tang (2001)  0.048356  0.586252   \n",
       "3844                  Slumber Party Massacre, The (1982)  0.245828  0.574628   \n",
       "1840                      Plan 9 from Outer Space (1959) -0.134340  0.569585   \n",
       "8284              Seed of Chucky (Child's Play 5) (2004)  0.145310  0.559072   \n",
       "\n",
       "             x3  \n",
       "4161   0.161319  \n",
       "5675   0.064063  \n",
       "2375  -0.234152  \n",
       "14912  0.093417  \n",
       "5792   0.013982  \n",
       "5064  -0.058014  \n",
       "4278  -0.126975  \n",
       "3844  -0.156493  \n",
       "1840  -0.051789  \n",
       "8284  -0.256268  "
      ]
     },
     "execution_count": 147,
     "metadata": {},
     "output_type": "execute_result"
    }
   ],
   "source": [
    "g.nlargest(10, ['x2'])"
   ]
  },
  {
   "cell_type": "code",
   "execution_count": 148,
   "metadata": {},
   "outputs": [
    {
     "data": {
      "text/html": [
       "<div>\n",
       "<style scoped>\n",
       "    .dataframe tbody tr th:only-of-type {\n",
       "        vertical-align: middle;\n",
       "    }\n",
       "\n",
       "    .dataframe tbody tr th {\n",
       "        vertical-align: top;\n",
       "    }\n",
       "\n",
       "    .dataframe thead th {\n",
       "        text-align: right;\n",
       "    }\n",
       "</style>\n",
       "<table border=\"1\" class=\"dataframe\">\n",
       "  <thead>\n",
       "    <tr style=\"text-align: right;\">\n",
       "      <th></th>\n",
       "      <th>movieId</th>\n",
       "      <th>x1</th>\n",
       "      <th>x2</th>\n",
       "      <th>x3</th>\n",
       "    </tr>\n",
       "  </thead>\n",
       "  <tbody>\n",
       "    <tr>\n",
       "      <th>13076</th>\n",
       "      <td>High School Musical 3: Senior Year (2008)</td>\n",
       "      <td>0.459074</td>\n",
       "      <td>0.164601</td>\n",
       "      <td>-0.498431</td>\n",
       "    </tr>\n",
       "    <tr>\n",
       "      <th>13131</th>\n",
       "      <td>Beverly Hills Chihuahua (2008)</td>\n",
       "      <td>0.238095</td>\n",
       "      <td>0.037413</td>\n",
       "      <td>-0.495139</td>\n",
       "    </tr>\n",
       "    <tr>\n",
       "      <th>4138</th>\n",
       "      <td>Spy Kids (2001)</td>\n",
       "      <td>0.059759</td>\n",
       "      <td>-0.019553</td>\n",
       "      <td>-0.486302</td>\n",
       "    </tr>\n",
       "    <tr>\n",
       "      <th>5407</th>\n",
       "      <td>Spy Kids 2: The Island of Lost Dreams (2002)</td>\n",
       "      <td>0.186421</td>\n",
       "      <td>0.042226</td>\n",
       "      <td>-0.482904</td>\n",
       "    </tr>\n",
       "    <tr>\n",
       "      <th>2299</th>\n",
       "      <td>Babe: Pig in the City (1998)</td>\n",
       "      <td>-0.088211</td>\n",
       "      <td>-0.036353</td>\n",
       "      <td>-0.460690</td>\n",
       "    </tr>\n",
       "    <tr>\n",
       "      <th>11071</th>\n",
       "      <td>High School Musical (2006)</td>\n",
       "      <td>0.340825</td>\n",
       "      <td>0.044076</td>\n",
       "      <td>-0.457918</td>\n",
       "    </tr>\n",
       "    <tr>\n",
       "      <th>2230</th>\n",
       "      <td>Bride of Chucky (Child's Play 4) (1998)</td>\n",
       "      <td>0.175557</td>\n",
       "      <td>0.504387</td>\n",
       "      <td>-0.435531</td>\n",
       "    </tr>\n",
       "    <tr>\n",
       "      <th>579</th>\n",
       "      <td>Brady Bunch Movie, The (1995)</td>\n",
       "      <td>0.052107</td>\n",
       "      <td>0.060105</td>\n",
       "      <td>-0.410972</td>\n",
       "    </tr>\n",
       "    <tr>\n",
       "      <th>6456</th>\n",
       "      <td>Spy Kids 3-D: Game Over (2003)</td>\n",
       "      <td>0.245940</td>\n",
       "      <td>0.248538</td>\n",
       "      <td>-0.409292</td>\n",
       "    </tr>\n",
       "    <tr>\n",
       "      <th>17922</th>\n",
       "      <td>First Love (1939)</td>\n",
       "      <td>0.078691</td>\n",
       "      <td>0.056356</td>\n",
       "      <td>-0.404740</td>\n",
       "    </tr>\n",
       "  </tbody>\n",
       "</table>\n",
       "</div>"
      ],
      "text/plain": [
       "                                            movieId        x1        x2  \\\n",
       "13076     High School Musical 3: Senior Year (2008)  0.459074  0.164601   \n",
       "13131                Beverly Hills Chihuahua (2008)  0.238095  0.037413   \n",
       "4138                                Spy Kids (2001)  0.059759 -0.019553   \n",
       "5407   Spy Kids 2: The Island of Lost Dreams (2002)  0.186421  0.042226   \n",
       "2299                   Babe: Pig in the City (1998) -0.088211 -0.036353   \n",
       "11071                    High School Musical (2006)  0.340825  0.044076   \n",
       "2230        Bride of Chucky (Child's Play 4) (1998)  0.175557  0.504387   \n",
       "579                   Brady Bunch Movie, The (1995)  0.052107  0.060105   \n",
       "6456                 Spy Kids 3-D: Game Over (2003)  0.245940  0.248538   \n",
       "17922                             First Love (1939)  0.078691  0.056356   \n",
       "\n",
       "             x3  \n",
       "13076 -0.498431  \n",
       "13131 -0.495139  \n",
       "4138  -0.486302  \n",
       "5407  -0.482904  \n",
       "2299  -0.460690  \n",
       "11071 -0.457918  \n",
       "2230  -0.435531  \n",
       "579   -0.410972  \n",
       "6456  -0.409292  \n",
       "17922 -0.404740  "
      ]
     },
     "execution_count": 148,
     "metadata": {},
     "output_type": "execute_result"
    }
   ],
   "source": [
    "g.nsmallest(10, ['x3'])"
   ]
  },
  {
   "cell_type": "code",
   "execution_count": 149,
   "metadata": {},
   "outputs": [
    {
     "data": {
      "text/html": [
       "<div>\n",
       "<style scoped>\n",
       "    .dataframe tbody tr th:only-of-type {\n",
       "        vertical-align: middle;\n",
       "    }\n",
       "\n",
       "    .dataframe tbody tr th {\n",
       "        vertical-align: top;\n",
       "    }\n",
       "\n",
       "    .dataframe thead th {\n",
       "        text-align: right;\n",
       "    }\n",
       "</style>\n",
       "<table border=\"1\" class=\"dataframe\">\n",
       "  <thead>\n",
       "    <tr style=\"text-align: right;\">\n",
       "      <th></th>\n",
       "      <th>movieId</th>\n",
       "      <th>x1</th>\n",
       "      <th>x2</th>\n",
       "      <th>x3</th>\n",
       "    </tr>\n",
       "  </thead>\n",
       "  <tbody>\n",
       "    <tr>\n",
       "      <th>4052</th>\n",
       "      <td>Million Dollar Hotel, The (2001)</td>\n",
       "      <td>0.025894</td>\n",
       "      <td>0.339012</td>\n",
       "      <td>0.522297</td>\n",
       "    </tr>\n",
       "    <tr>\n",
       "      <th>10842</th>\n",
       "      <td>London (2005)</td>\n",
       "      <td>0.264027</td>\n",
       "      <td>0.228123</td>\n",
       "      <td>0.433223</td>\n",
       "    </tr>\n",
       "    <tr>\n",
       "      <th>1284</th>\n",
       "      <td>Mad Dog Time (1996)</td>\n",
       "      <td>0.079679</td>\n",
       "      <td>0.151747</td>\n",
       "      <td>0.422268</td>\n",
       "    </tr>\n",
       "    <tr>\n",
       "      <th>7265</th>\n",
       "      <td>United States of Leland, The (2003)</td>\n",
       "      <td>0.041470</td>\n",
       "      <td>0.016634</td>\n",
       "      <td>0.418973</td>\n",
       "    </tr>\n",
       "    <tr>\n",
       "      <th>17</th>\n",
       "      <td>Four Rooms (1995)</td>\n",
       "      <td>0.021563</td>\n",
       "      <td>0.038943</td>\n",
       "      <td>0.412716</td>\n",
       "    </tr>\n",
       "    <tr>\n",
       "      <th>18141</th>\n",
       "      <td>Another Happy Day (2011)</td>\n",
       "      <td>-0.109687</td>\n",
       "      <td>-0.013661</td>\n",
       "      <td>0.403742</td>\n",
       "    </tr>\n",
       "    <tr>\n",
       "      <th>10550</th>\n",
       "      <td>Revolver (2005)</td>\n",
       "      <td>0.100312</td>\n",
       "      <td>0.157571</td>\n",
       "      <td>0.391784</td>\n",
       "    </tr>\n",
       "    <tr>\n",
       "      <th>11218</th>\n",
       "      <td>Tideland (2005)</td>\n",
       "      <td>-0.073511</td>\n",
       "      <td>0.273977</td>\n",
       "      <td>0.384826</td>\n",
       "    </tr>\n",
       "    <tr>\n",
       "      <th>1800</th>\n",
       "      <td>Fear and Loathing in Las Vegas (1998)</td>\n",
       "      <td>-0.200885</td>\n",
       "      <td>0.352117</td>\n",
       "      <td>0.380065</td>\n",
       "    </tr>\n",
       "    <tr>\n",
       "      <th>3405</th>\n",
       "      <td>Roadside Prophets (1992)</td>\n",
       "      <td>-0.035002</td>\n",
       "      <td>0.155925</td>\n",
       "      <td>0.378844</td>\n",
       "    </tr>\n",
       "  </tbody>\n",
       "</table>\n",
       "</div>"
      ],
      "text/plain": [
       "                                     movieId        x1        x2        x3\n",
       "4052        Million Dollar Hotel, The (2001)  0.025894  0.339012  0.522297\n",
       "10842                          London (2005)  0.264027  0.228123  0.433223\n",
       "1284                     Mad Dog Time (1996)  0.079679  0.151747  0.422268\n",
       "7265     United States of Leland, The (2003)  0.041470  0.016634  0.418973\n",
       "17                         Four Rooms (1995)  0.021563  0.038943  0.412716\n",
       "18141               Another Happy Day (2011) -0.109687 -0.013661  0.403742\n",
       "10550                        Revolver (2005)  0.100312  0.157571  0.391784\n",
       "11218                        Tideland (2005) -0.073511  0.273977  0.384826\n",
       "1800   Fear and Loathing in Las Vegas (1998) -0.200885  0.352117  0.380065\n",
       "3405                Roadside Prophets (1992) -0.035002  0.155925  0.378844"
      ]
     },
     "execution_count": 149,
     "metadata": {},
     "output_type": "execute_result"
    }
   ],
   "source": [
    "g.nlargest(10, ['x3'])"
   ]
  },
  {
   "cell_type": "code",
   "execution_count": 150,
   "metadata": {},
   "outputs": [],
   "source": [
    "embedding_ub = model.get_layer(\"user_bias\").get_weights()[0]\n",
    "embedding_mb = model.get_layer(\"movie_bias\").get_weights()[0]"
   ]
  },
  {
   "cell_type": "code",
   "execution_count": 151,
   "metadata": {},
   "outputs": [],
   "source": [
    "results_mb = PCA(n_components=1).fit_transform(embedding_mb)\n",
    "results_ub = PCA(n_components=1).fit_transform(embedding_ub)\n",
    "results_ub.shape"
   ]
  },
  {
   "cell_type": "code",
   "execution_count": 152,
   "metadata": {},
   "outputs": [],
   "source": [
    "mbmax, mbmin = results_mb.argmax(), results_mb.argmin() \n",
    "ubmax, ubmin = results_ub.argmax(), results_ub.argmin() "
   ]
  },
  {
   "cell_type": "code",
   "execution_count": 153,
   "metadata": {
    "scrolled": true
   },
   "outputs": [
    {
     "data": {
      "text/html": [
       "<div>\n",
       "<style scoped>\n",
       "    .dataframe tbody tr th:only-of-type {\n",
       "        vertical-align: middle;\n",
       "    }\n",
       "\n",
       "    .dataframe tbody tr th {\n",
       "        vertical-align: top;\n",
       "    }\n",
       "\n",
       "    .dataframe thead th {\n",
       "        text-align: right;\n",
       "    }\n",
       "</style>\n",
       "<table border=\"1\" class=\"dataframe\">\n",
       "  <thead>\n",
       "    <tr style=\"text-align: right;\">\n",
       "      <th></th>\n",
       "      <th>userId</th>\n",
       "      <th>movieId</th>\n",
       "      <th>rating</th>\n",
       "      <th>timestamp</th>\n",
       "      <th>title</th>\n",
       "      <th>genres</th>\n",
       "    </tr>\n",
       "  </thead>\n",
       "  <tbody>\n",
       "  </tbody>\n",
       "</table>\n",
       "</div>"
      ],
      "text/plain": [
       "Empty DataFrame\n",
       "Columns: [userId, movieId, rating, timestamp, title, genres]\n",
       "Index: []"
      ]
     },
     "execution_count": 153,
     "metadata": {},
     "output_type": "execute_result"
    }
   ],
   "source": [
    "df[df.userId==ubmax].head(20)"
   ]
  },
  {
   "cell_type": "code",
   "execution_count": 79,
   "metadata": {},
   "outputs": [
    {
     "data": {
      "text/html": [
       "<div>\n",
       "<style scoped>\n",
       "    .dataframe tbody tr th:only-of-type {\n",
       "        vertical-align: middle;\n",
       "    }\n",
       "\n",
       "    .dataframe tbody tr th {\n",
       "        vertical-align: top;\n",
       "    }\n",
       "\n",
       "    .dataframe thead th {\n",
       "        text-align: right;\n",
       "    }\n",
       "</style>\n",
       "<table border=\"1\" class=\"dataframe\">\n",
       "  <thead>\n",
       "    <tr style=\"text-align: right;\">\n",
       "      <th></th>\n",
       "      <th>userId</th>\n",
       "      <th>movieId</th>\n",
       "      <th>rating</th>\n",
       "      <th>timestamp</th>\n",
       "      <th>title</th>\n",
       "      <th>genres</th>\n",
       "    </tr>\n",
       "  </thead>\n",
       "  <tbody>\n",
       "    <tr>\n",
       "      <th>52767</th>\n",
       "      <td>68060</td>\n",
       "      <td>31</td>\n",
       "      <td>0.5</td>\n",
       "      <td>1269314884</td>\n",
       "      <td>Twelve Monkeys (a.k.a. 12 Monkeys) (1995)</td>\n",
       "      <td>Mystery|Sci-Fi|Thriller</td>\n",
       "    </tr>\n",
       "    <tr>\n",
       "      <th>96910</th>\n",
       "      <td>68060</td>\n",
       "      <td>46</td>\n",
       "      <td>0.5</td>\n",
       "      <td>1269236112</td>\n",
       "      <td>Seven (a.k.a. Se7en) (1995)</td>\n",
       "      <td>Mystery|Thriller</td>\n",
       "    </tr>\n",
       "    <tr>\n",
       "      <th>142179</th>\n",
       "      <td>68060</td>\n",
       "      <td>49</td>\n",
       "      <td>0.5</td>\n",
       "      <td>1269235755</td>\n",
       "      <td>Usual Suspects, The (1995)</td>\n",
       "      <td>Crime|Mystery|Thriller</td>\n",
       "    </tr>\n",
       "    <tr>\n",
       "      <th>227687</th>\n",
       "      <td>68060</td>\n",
       "      <td>250</td>\n",
       "      <td>0.5</td>\n",
       "      <td>1269235975</td>\n",
       "      <td>Interview with the Vampire: The Vampire Chroni...</td>\n",
       "      <td>Drama|Horror</td>\n",
       "    </tr>\n",
       "    <tr>\n",
       "      <th>268579</th>\n",
       "      <td>68060</td>\n",
       "      <td>257</td>\n",
       "      <td>5.0</td>\n",
       "      <td>1269227682</td>\n",
       "      <td>Star Wars: Episode IV - A New Hope (1977)</td>\n",
       "      <td>Action|Adventure|Sci-Fi</td>\n",
       "    </tr>\n",
       "    <tr>\n",
       "      <th>309073</th>\n",
       "      <td>68060</td>\n",
       "      <td>290</td>\n",
       "      <td>0.5</td>\n",
       "      <td>1269235764</td>\n",
       "      <td>Léon: The Professional (a.k.a. The Professiona...</td>\n",
       "      <td>Action|Crime|Drama|Thriller</td>\n",
       "    </tr>\n",
       "    <tr>\n",
       "      <th>355053</th>\n",
       "      <td>68060</td>\n",
       "      <td>293</td>\n",
       "      <td>5.0</td>\n",
       "      <td>1269236108</td>\n",
       "      <td>Pulp Fiction (1994)</td>\n",
       "      <td>Comedy|Crime|Drama|Thriller</td>\n",
       "    </tr>\n",
       "    <tr>\n",
       "      <th>420495</th>\n",
       "      <td>68060</td>\n",
       "      <td>315</td>\n",
       "      <td>5.0</td>\n",
       "      <td>1269227672</td>\n",
       "      <td>Shawshank Redemption, The (1994)</td>\n",
       "      <td>Crime|Drama</td>\n",
       "    </tr>\n",
       "    <tr>\n",
       "      <th>461592</th>\n",
       "      <td>68060</td>\n",
       "      <td>333</td>\n",
       "      <td>0.5</td>\n",
       "      <td>1269236271</td>\n",
       "      <td>What's Eating Gilbert Grape (1993)</td>\n",
       "      <td>Drama</td>\n",
       "    </tr>\n",
       "    <tr>\n",
       "      <th>487553</th>\n",
       "      <td>68060</td>\n",
       "      <td>363</td>\n",
       "      <td>0.5</td>\n",
       "      <td>1269235991</td>\n",
       "      <td>Mask, The (1994)</td>\n",
       "      <td>Action|Comedy|Crime|Fantasy</td>\n",
       "    </tr>\n",
       "    <tr>\n",
       "      <th>520073</th>\n",
       "      <td>68060</td>\n",
       "      <td>537</td>\n",
       "      <td>0.5</td>\n",
       "      <td>1269227751</td>\n",
       "      <td>Blade Runner (1982)</td>\n",
       "      <td>Action|Sci-Fi|Thriller</td>\n",
       "    </tr>\n",
       "    <tr>\n",
       "      <th>561205</th>\n",
       "      <td>68060</td>\n",
       "      <td>583</td>\n",
       "      <td>3.5</td>\n",
       "      <td>1269275010</td>\n",
       "      <td>Terminator 2: Judgment Day (1991)</td>\n",
       "      <td>Action|Sci-Fi</td>\n",
       "    </tr>\n",
       "    <tr>\n",
       "      <th>658126</th>\n",
       "      <td>68060</td>\n",
       "      <td>645</td>\n",
       "      <td>0.5</td>\n",
       "      <td>1269314652</td>\n",
       "      <td>Dragonheart (1996)</td>\n",
       "      <td>Action|Adventure|Fantasy</td>\n",
       "    </tr>\n",
       "    <tr>\n",
       "      <th>676859</th>\n",
       "      <td>68060</td>\n",
       "      <td>902</td>\n",
       "      <td>0.5</td>\n",
       "      <td>1269235820</td>\n",
       "      <td>Wizard of Oz, The (1939)</td>\n",
       "      <td>Adventure|Children|Fantasy|Musical</td>\n",
       "    </tr>\n",
       "    <tr>\n",
       "      <th>701225</th>\n",
       "      <td>68060</td>\n",
       "      <td>907</td>\n",
       "      <td>0.5</td>\n",
       "      <td>1269235862</td>\n",
       "      <td>2001: A Space Odyssey (1968)</td>\n",
       "      <td>Adventure|Drama|Sci-Fi</td>\n",
       "    </tr>\n",
       "    <tr>\n",
       "      <th>731566</th>\n",
       "      <td>68060</td>\n",
       "      <td>1017</td>\n",
       "      <td>5.0</td>\n",
       "      <td>1269236325</td>\n",
       "      <td>Die Hard (1988)</td>\n",
       "      <td>Action|Crime|Thriller</td>\n",
       "    </tr>\n",
       "    <tr>\n",
       "      <th>800753</th>\n",
       "      <td>68060</td>\n",
       "      <td>1067</td>\n",
       "      <td>0.5</td>\n",
       "      <td>1269236180</td>\n",
       "      <td>Reservoir Dogs (1992)</td>\n",
       "      <td>Crime|Mystery|Thriller</td>\n",
       "    </tr>\n",
       "    <tr>\n",
       "      <th>846577</th>\n",
       "      <td>68060</td>\n",
       "      <td>1075</td>\n",
       "      <td>0.5</td>\n",
       "      <td>1269235893</td>\n",
       "      <td>E.T. the Extra-Terrestrial (1982)</td>\n",
       "      <td>Children|Drama|Sci-Fi</td>\n",
       "    </tr>\n",
       "    <tr>\n",
       "      <th>879624</th>\n",
       "      <td>68060</td>\n",
       "      <td>1113</td>\n",
       "      <td>3.5</td>\n",
       "      <td>1269236259</td>\n",
       "      <td>Monty Python and the Holy Grail (1975)</td>\n",
       "      <td>Adventure|Comedy|Fantasy</td>\n",
       "    </tr>\n",
       "    <tr>\n",
       "      <th>948614</th>\n",
       "      <td>68060</td>\n",
       "      <td>1171</td>\n",
       "      <td>5.0</td>\n",
       "      <td>1269227675</td>\n",
       "      <td>Star Wars: Episode V - The Empire Strikes Back...</td>\n",
       "      <td>Action|Adventure|Sci-Fi</td>\n",
       "    </tr>\n",
       "  </tbody>\n",
       "</table>\n",
       "</div>"
      ],
      "text/plain": [
       "        userId  movieId  rating   timestamp  \\\n",
       "52767    68060       31     0.5  1269314884   \n",
       "96910    68060       46     0.5  1269236112   \n",
       "142179   68060       49     0.5  1269235755   \n",
       "227687   68060      250     0.5  1269235975   \n",
       "268579   68060      257     5.0  1269227682   \n",
       "309073   68060      290     0.5  1269235764   \n",
       "355053   68060      293     5.0  1269236108   \n",
       "420495   68060      315     5.0  1269227672   \n",
       "461592   68060      333     0.5  1269236271   \n",
       "487553   68060      363     0.5  1269235991   \n",
       "520073   68060      537     0.5  1269227751   \n",
       "561205   68060      583     3.5  1269275010   \n",
       "658126   68060      645     0.5  1269314652   \n",
       "676859   68060      902     0.5  1269235820   \n",
       "701225   68060      907     0.5  1269235862   \n",
       "731566   68060     1017     5.0  1269236325   \n",
       "800753   68060     1067     0.5  1269236180   \n",
       "846577   68060     1075     0.5  1269235893   \n",
       "879624   68060     1113     3.5  1269236259   \n",
       "948614   68060     1171     5.0  1269227675   \n",
       "\n",
       "                                                    title  \\\n",
       "52767           Twelve Monkeys (a.k.a. 12 Monkeys) (1995)   \n",
       "96910                         Seven (a.k.a. Se7en) (1995)   \n",
       "142179                         Usual Suspects, The (1995)   \n",
       "227687  Interview with the Vampire: The Vampire Chroni...   \n",
       "268579          Star Wars: Episode IV - A New Hope (1977)   \n",
       "309073  Léon: The Professional (a.k.a. The Professiona...   \n",
       "355053                                Pulp Fiction (1994)   \n",
       "420495                   Shawshank Redemption, The (1994)   \n",
       "461592                 What's Eating Gilbert Grape (1993)   \n",
       "487553                                   Mask, The (1994)   \n",
       "520073                                Blade Runner (1982)   \n",
       "561205                  Terminator 2: Judgment Day (1991)   \n",
       "658126                                 Dragonheart (1996)   \n",
       "676859                           Wizard of Oz, The (1939)   \n",
       "701225                       2001: A Space Odyssey (1968)   \n",
       "731566                                    Die Hard (1988)   \n",
       "800753                              Reservoir Dogs (1992)   \n",
       "846577                  E.T. the Extra-Terrestrial (1982)   \n",
       "879624             Monty Python and the Holy Grail (1975)   \n",
       "948614  Star Wars: Episode V - The Empire Strikes Back...   \n",
       "\n",
       "                                    genres  \n",
       "52767              Mystery|Sci-Fi|Thriller  \n",
       "96910                     Mystery|Thriller  \n",
       "142179              Crime|Mystery|Thriller  \n",
       "227687                        Drama|Horror  \n",
       "268579             Action|Adventure|Sci-Fi  \n",
       "309073         Action|Crime|Drama|Thriller  \n",
       "355053         Comedy|Crime|Drama|Thriller  \n",
       "420495                         Crime|Drama  \n",
       "461592                               Drama  \n",
       "487553         Action|Comedy|Crime|Fantasy  \n",
       "520073              Action|Sci-Fi|Thriller  \n",
       "561205                       Action|Sci-Fi  \n",
       "658126            Action|Adventure|Fantasy  \n",
       "676859  Adventure|Children|Fantasy|Musical  \n",
       "701225              Adventure|Drama|Sci-Fi  \n",
       "731566               Action|Crime|Thriller  \n",
       "800753              Crime|Mystery|Thriller  \n",
       "846577               Children|Drama|Sci-Fi  \n",
       "879624            Adventure|Comedy|Fantasy  \n",
       "948614             Action|Adventure|Sci-Fi  "
      ]
     },
     "execution_count": 79,
     "metadata": {},
     "output_type": "execute_result"
    }
   ],
   "source": [
    "df[df.userId==ubmin].head(20)"
   ]
  },
  {
   "cell_type": "code",
   "execution_count": 80,
   "metadata": {},
   "outputs": [
    {
     "data": {
      "text/plain": [
       "<matplotlib.axes._subplots.AxesSubplot at 0x19031d4da20>"
      ]
     },
     "execution_count": 80,
     "metadata": {},
     "output_type": "execute_result"
    },
    {
     "data": {
      "image/png": "[encoded data removed]",
      "text/plain": [
       "<Figure size 432x288 with 1 Axes>"
      ]
     },
     "metadata": {
      "needs_background": "light"
     },
     "output_type": "display_data"
    }
   ],
   "source": [
    "sns.distplot(df[df.userId==68060].rating, kde=False)"
   ]
  },
  {
   "cell_type": "code",
   "execution_count": 81,
   "metadata": {},
   "outputs": [
    {
     "data": {
      "text/plain": [
       "<matplotlib.axes._subplots.AxesSubplot at 0x1902f14fa20>"
      ]
     },
     "execution_count": 81,
     "metadata": {},
     "output_type": "execute_result"
    },
    {
     "data": {
      "image/png": "[encoded data removed]",
      "text/plain": [
       "<Figure size 432x288 with 1 Axes>"
      ]
     },
     "metadata": {
      "needs_background": "light"
     },
     "output_type": "display_data"
    }
   ],
   "source": [
    "sns.distplot(df[df.userId==108389].rating, kde=False)"
   ]
  },
  {
   "cell_type": "code",
   "execution_count": 82,
   "metadata": {},
   "outputs": [
    {
     "data": {
      "text/plain": [
       "<matplotlib.axes._subplots.AxesSubplot at 0x190317bc940>"
      ]
     },
     "execution_count": 82,
     "metadata": {},
     "output_type": "execute_result"
    },
    {
     "data": {
      "image/png": "[encoded data removed]",
      "text/plain": [
       "<Figure size 432x288 with 1 Axes>"
      ]
     },
     "metadata": {
      "needs_background": "light"
     },
     "output_type": "display_data"
    }
   ],
   "source": [
    "sns.distplot(df[df.userId==1254].rating)"
   ]
  },
  {
   "cell_type": "code",
   "execution_count": 154,
   "metadata": {},
   "outputs": [],
   "source": [
    "with open('tensors.tsv', 'w') as fi:\n",
    "    np.savetxt(fi, embedding_m, delimiter='\\t')"
   ]
  },
  {
   "cell_type": "code",
   "execution_count": 155,
   "metadata": {},
   "outputs": [],
   "source": [
    "labels_m = df.drop_duplicates(subset='movieId').sort_values(by='movieId', ascending=True)[['title', 'genres']]\n",
    "labels_m.to_csv('metadata.tsv', sep='\\t', index=0)"
   ]
  },
  {
   "cell_type": "code",
   "execution_count": null,
   "metadata": {},
   "outputs": [],
   "source": []
  }
 ],
 "metadata": {
  "kernelspec": {
   "display_name": "keras",
   "language": "python",
   "name": "keras"
  },
  "language_info": {
   "codemirror_mode": {
    "name": "ipython",
    "version": 3
   },
   "file_extension": ".py",
   "mimetype": "text/x-python",
   "name": "python",
   "nbconvert_exporter": "python",
   "pygments_lexer": "ipython3",
   "version": "3.6.7"
  }
 },
 "nbformat": 4,
 "nbformat_minor": 2
}
